{
 "cells": [
  {
   "cell_type": "markdown",
   "metadata": {},
   "source": [
    "# ASSIGNMENT DAY 3"
   ]
  },
  {
   "cell_type": "markdown",
   "metadata": {},
   "source": [
    "# QUESTION 1"
   ]
  },
  {
   "cell_type": "code",
   "execution_count": 1,
   "metadata": {},
   "outputs": [
    {
     "name": "stdout",
     "output_type": "stream",
     "text": [
      "Enter the altitude of the plane345\n",
      "You can land the plane\n"
     ]
    }
   ],
   "source": [
    "altitude=int(input(\"Enter the altitude of the plane\"))\n",
    "if(altitude<=1000):\n",
    "    print(\"You can land the plane\")\n",
    "elif(altitude<=5000):\n",
    "     print(\"Come down to 1000 feet\")\n",
    "else:\n",
    "     print(\" Go around and try later \")"
   ]
  },
  {
   "cell_type": "code",
   "execution_count": 2,
   "metadata": {},
   "outputs": [
    {
     "name": "stdout",
     "output_type": "stream",
     "text": [
      "Enter the altitude of the plane4533\n",
      "Come down to 1000 feet\n"
     ]
    }
   ],
   "source": [
    "altitude=int(input(\"Enter the altitude of the plane\"))\n",
    "if(altitude<=1000):\n",
    "    print(\"You can land the plane\")\n",
    "elif(altitude<=5000):\n",
    "     print(\"Come down to 1000 feet\")\n",
    "else:\n",
    "     print(\" Go around and try later \")"
   ]
  },
  {
   "cell_type": "code",
   "execution_count": 3,
   "metadata": {},
   "outputs": [
    {
     "name": "stdout",
     "output_type": "stream",
     "text": [
      "Enter the altitude of the plane7777\n",
      " Go around and try later \n"
     ]
    }
   ],
   "source": [
    "altitude=int(input(\"Enter the altitude of the plane\"))\n",
    "if(altitude<=1000):\n",
    "    print(\"You can land the plane\")\n",
    "elif(altitude<=5000):\n",
    "     print(\"Come down to 1000 feet\")\n",
    "else:\n",
    "     print(\" Go around and try later \")"
   ]
  },
  {
   "cell_type": "markdown",
   "metadata": {},
   "source": [
    "# QUESTION 2"
   ]
  },
  {
   "cell_type": "code",
   "execution_count": 5,
   "metadata": {},
   "outputs": [
    {
     "name": "stdout",
     "output_type": "stream",
     "text": [
      "2\n",
      "3\n",
      "5\n",
      "7\n",
      "11\n",
      "13\n",
      "17\n",
      "19\n",
      "23\n",
      "29\n",
      "31\n",
      "37\n",
      "41\n",
      "43\n",
      "47\n",
      "53\n",
      "59\n",
      "61\n",
      "67\n",
      "71\n",
      "73\n",
      "79\n",
      "83\n",
      "89\n",
      "97\n",
      "101\n",
      "103\n",
      "107\n",
      "109\n",
      "113\n",
      "127\n",
      "131\n",
      "137\n",
      "139\n",
      "149\n",
      "151\n",
      "157\n",
      "163\n",
      "167\n",
      "173\n",
      "179\n",
      "181\n",
      "191\n",
      "193\n",
      "197\n",
      "199\n"
     ]
    }
   ],
   "source": [
    "i=1\n",
    "for k in range (1, (200+1)):\n",
    "    c=0\n",
    "    for j in range (1, (i+1)):\n",
    "       \n",
    "        if (i%j==0):\n",
    "            c = c+1\n",
    "\n",
    "    if (c==2):\n",
    "          print (i)\n",
    "    else:\n",
    "          k = k-1\n",
    "\n",
    "    i=i+1"
   ]
  },
  {
   "cell_type": "code",
   "execution_count": null,
   "metadata": {},
   "outputs": [],
   "source": []
  }
 ],
 "metadata": {
  "kernelspec": {
   "display_name": "Python 3",
   "language": "python",
   "name": "python3"
  },
  "language_info": {
   "codemirror_mode": {
    "name": "ipython",
    "version": 3
   },
   "file_extension": ".py",
   "mimetype": "text/x-python",
   "name": "python",
   "nbconvert_exporter": "python",
   "pygments_lexer": "ipython3",
   "version": "3.8.3"
  }
 },
 "nbformat": 4,
 "nbformat_minor": 4
}
